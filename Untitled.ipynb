{
 "cells": [
  {
   "cell_type": "code",
   "execution_count": 1,
   "metadata": {
    "scrolled": true
   },
   "outputs": [
    {
     "name": "stdout",
     "output_type": "stream",
     "text": [
      "__main__\n",
      "[{'ecl': 'gry', 'pid': '860033327', 'eyr': '2020', 'hcl': '#fffffd', 'byr': '1937', 'iyr': '2017', 'cid': '147', 'hgt': '183cm'}, {'iyr': '2013', 'ecl': 'amb', 'cid': '350', 'eyr': '2023', 'pid': '028048884', 'hcl': '#cfa07d', 'byr': '1929'}, {'hcl': '#ae17e1', 'iyr': '2013', 'eyr': '2024', 'ecl': 'brn', 'pid': '760753108', 'byr': '1931', 'hgt': '179cm'}, {'hcl': '#cfa07d', 'eyr': '2025', 'pid': '166559648', 'iyr': '2011', 'ecl': 'brn', 'hgt': '59in'}]\n"
     ]
    }
   ],
   "source": [
    "def all_pass(lines):\n",
    "    print(__name__)\n",
    "    all_pass = []\n",
    "    passp = {}\n",
    "    for line in lines:\n",
    "        if line == \"\\n\":\n",
    "            all_pass.append(passp)\n",
    "            passp = {}\n",
    "        elif line:\n",
    "            passp = get_p(line, passp)\n",
    "    \n",
    "    if passp:\n",
    "        all_pass.append(passp)\n",
    "    return all_pass\n",
    "\n",
    "\n",
    "def get_p(line, passp):\n",
    "    for i in line.strip(\"\\n\").split(\" \"):\n",
    "        k, v = get_dict(i)\n",
    "        passp[k] = v\n",
    "    return passp\n",
    "\n",
    "\n",
    "def get_dict(string):\n",
    "    return string.split(\":\")\n",
    "\n",
    "def is_valid(passp):\n",
    "    musts= [\"hgt\", \"byr\"]\n",
    "    if all(x in passp for x in musts):\n",
    "        return True\n",
    "    else:\n",
    "        return False\n",
    "\n",
    "\n",
    "passps = [{'ecl': 'gry', 'pid': '860033327', 'eyr': '2020', 'hcl': '#fffffd', 'byr': '1937', 'iyr': '2017', 'cid': '147', 'hgt': '183cm'}, {'iyr': '2013', 'ecl': 'amb', 'cid': '350', 'eyr': '2023', 'pid': '028048884', 'hcl': '#cfa07d', 'byr': '1929'}, {'hcl': '#ae17e1', 'iyr': '2013', 'eyr': '2024', 'ecl': 'brn', 'pid': '760753108', 'byr': '1931', 'hgt': '179cm'}, {'hcl': '#cfa07d', 'eyr': '2025', 'pid': '166559648', 'iyr': '2011', 'ecl': 'brn', 'hgt': '59in'}]\n",
    "\n",
    "\n",
    "assert is_valid(passps[0])\n",
    "assert not is_valid(passps[1])\n",
    "assert is_valid(passps[2])\n",
    "assert not is_valid(passps[3])\n",
    "\n",
    "\n",
    "\n",
    "\n",
    "\n",
    "\n",
    "\n",
    "\n",
    "lines =\"\"\"ecl:gry pid:860033327 eyr:2020 hcl:#fffffd \n",
    "byr:1937 iyr:2017 cid:147 hgt:183cm\n",
    "\n",
    "iyr:2013 ecl:amb cid:350 eyr:2023 pid:028048884\n",
    "hcl:#cfa07d byr:1929\n",
    "\n",
    "hcl:#ae17e1 iyr:2013\n",
    "eyr:2024\n",
    "ecl:brn pid:760753108 byr:1931\n",
    "hgt:179cm\n",
    "\n",
    "hcl:#cfa07d eyr:2025 pid:166559648\n",
    "iyr:2011 ecl:brn hgt:59in\"\"\"\n",
    "\n",
    "with open(\"test.txt\", \"w+\") as f:\n",
    "    f.write(lines)\n",
    "    \n",
    "\n",
    "with open(\"test.txt\", \"r\") as f:\n",
    "    print(all_pass(f))\n"
   ]
  },
  {
   "cell_type": "code",
   "execution_count": 1,
   "metadata": {},
   "outputs": [],
   "source": []
  },
  {
   "cell_type": "code",
   "execution_count": null,
   "metadata": {},
   "outputs": [],
   "source": []
  },
  {
   "cell_type": "code",
   "execution_count": null,
   "metadata": {},
   "outputs": [],
   "source": []
  }
 ],
 "metadata": {
  "kernelspec": {
   "display_name": "Python 3",
   "language": "python",
   "name": "python3"
  },
  "language_info": {
   "codemirror_mode": {
    "name": "ipython",
    "version": 3
   },
   "file_extension": ".py",
   "mimetype": "text/x-python",
   "name": "python",
   "nbconvert_exporter": "python",
   "pygments_lexer": "ipython3",
   "version": "3.9.0+"
  }
 },
 "nbformat": 4,
 "nbformat_minor": 2
}